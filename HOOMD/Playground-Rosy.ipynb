{
 "cells": [
  {
   "cell_type": "code",
   "execution_count": 11,
   "id": "1d28eb4c-8da9-4b34-972d-0d9cdd4e8566",
   "metadata": {},
   "outputs": [],
   "source": [
    "import signac\n",
    "\n",
    "project = signac.get_project()\n",
    "\n",
    "import itertools\n",
    "import math\n",
    "\n",
    "import gsd.hoomd\n",
    "import hoomd\n",
    "import numpy as np\n",
    "from hoomd import hpmc, md\n",
    "from matplotlib import pyplot as plt\n",
    "from scipy.stats.qmc import Sobol"
   ]
  },
  {
   "cell_type": "code",
   "execution_count": 22,
   "id": "adaddca3-4e30-4080-94cc-03058204bff9",
   "metadata": {},
   "outputs": [
    {
     "data": {
      "text/plain": [
       "[<matplotlib.lines.Line2D at 0x155a65450>]"
      ]
     },
     "execution_count": 22,
     "metadata": {},
     "output_type": "execute_result"
    },
    {
     "data": {
      "image/png": "[encoded data removed]",
      "text/plain": [
       "<Figure size 640x480 with 1 Axes>"
      ]
     },
     "metadata": {},
     "output_type": "display_data"
    }
   ],
   "source": [
    "a1 = 1\n",
    "a2 = 1\n",
    "A = 1000\n",
    "kappa = 1\n",
    "Z = 0\n",
    "\n",
    "def dlvo(r):\n",
    "    return (-1)*(A/6)*((2*a1*a2)/(r**2-(a1+a2)**2)+(2*a1*a2)/(r**2-(a1-a2)**2)+np.log((r**2-(a1+a2)**2)/(r**2-(a1-a2)**2)))+((a1*a2)/(a1+a2))*Z*np.exp(-1*kappa*(r-(a1+a2)))\n",
    "\n",
    "rs = np.linspace(1.5*(a1+a2), 10*a1, 100)\n",
    "plt.plot(rs, dlvo(rs), marker='o')\n"
   ]
  },
  {
   "cell_type": "code",
   "execution_count": 13,
   "id": "5d11fc32-5f9f-4f7c-aceb-42a5cde994b2",
   "metadata": {},
   "outputs": [
    {
     "data": {
      "text/plain": [
       "-3.0287754037316796"
      ]
     },
     "execution_count": 13,
     "metadata": {},
     "output_type": "execute_result"
    }
   ],
   "source": [
    "r = 3.25\n",
    "dlvo(r)"
   ]
  },
  {
   "cell_type": "code",
   "execution_count": 28,
   "id": "f471e078-7143-4dfb-88b8-69af30fc2826",
   "metadata": {},
   "outputs": [],
   "source": [
    "device = hoomd.device.CPU()\n",
    "sim = hoomd.Simulation(device=device)\n",
    "sim.seed = 0\n",
    "\n",
    "N_particles = 20\n",
    "L = 20\n",
    "rcut = L * 0.4\n",
    "s = Sobol(3)\n",
    "position = np.array([L * (s.random()-0.5).flatten() for _ in range(N_particles)])\n",
    "\n",
    "snapshot = gsd.hoomd.Frame()\n",
    "snapshot.particles.N = N_particles\n",
    "snapshot.particles.types = [\"A\"]\n",
    "snapshot.particles.position = position[0:N_particles]\n",
    "snapshot.configuration.box = [L, L, L, 0, 0, 0]\n",
    "\n",
    "sim.create_state_from_snapshot(snapshot)\n",
    "\n",
    "with gsd.hoomd.open(name=\"lattice.gsd\", mode=\"w\") as f:\n",
    "    f.append(snapshot)\n",
    "\n",
    "nlist = md.nlist.Cell(buffer=0.5)\n",
    "dlvo = md.pair.DLVO(nlist=nlist, default_r_cut=rcut*a1)\n",
    "dlvo.params[\"A\", \"A\"] = dict(A=A, kappa=kappa, Z=Z, a1=a1, a2=a2)"
   ]
  },
  {
   "cell_type": "code",
   "execution_count": 29,
   "id": "c5640ff0-fab5-42ba-89d8-51ae99ab3c1a",
   "metadata": {},
   "outputs": [
    {
     "data": {
      "text/plain": [
       "array([[ 1.02658864,  7.70347739,  4.15308183],\n",
       "       [-6.43564636, -2.18276802, -1.77204376],\n",
       "       [-3.40439612,  4.03601781,  9.81078207],\n",
       "       [ 9.12604567, -5.84091971, -7.35032443],\n",
       "       [ 5.53860383,  1.76488925, -4.67233866],\n",
       "       [-2.00419687, -8.74925597,  1.89701345],\n",
       "       [-7.52580546,  5.59716282, -9.02022446],\n",
       "       [ 4.92895203, -4.90675904,  6.32417107],\n",
       "       [ 3.08213172,  3.49048933, -8.62293854],\n",
       "       [-9.38971635, -6.7013897 ,  6.08210396],\n",
       "       [-0.13791796,  9.81395092, -3.03849706],\n",
       "       [ 7.38291083, -0.38723594,  0.4208369 ],\n",
       "       [ 8.49260107,  6.92392819,  7.55650183],\n",
       "       [-4.05981263, -2.64005216, -5.2537044 ],\n",
       "       [-5.7827433 ,  0.74819075,  3.12562481],\n",
       "       [ 1.66240111, -8.82601302, -0.89981038],\n",
       "       [ 1.97743975,  0.3381991 ,  5.09480987],\n",
       "       [-5.47243504, -9.78471076, -7.71022774],\n",
       "       [-4.99993114,  6.67230358,  0.74631365],\n",
       "       [ 7.55751811, -3.44160363, -3.2849011 ]])"
      ]
     },
     "execution_count": 29,
     "metadata": {},
     "output_type": "execute_result"
    }
   ],
   "source": [
    "position"
   ]
  },
  {
   "cell_type": "code",
   "execution_count": 30,
   "id": "cf2bd6a8-c8fe-4512-86b4-e0b8b1dadba9",
   "metadata": {},
   "outputs": [
    {
     "data": {
      "text/plain": [
       "array([[ 0.        , 13.73061953,  8.06805167, 19.52895932, 11.55478936,\n",
       "        16.88099346, 15.84664016, 13.37759811, 13.60886558, 17.88073633,\n",
       "         7.58478616, 10.94495893,  8.24210569, 14.87775885,  9.78768009,\n",
       "        17.29624324,  7.48587294, 22.10909649,  6.99916634, 14.90602095],\n",
       "       [13.73061953,  0.        , 13.4916133 , 16.93120042, 12.93747951,\n",
       "         8.73032011, 10.68886777, 14.21699399, 13.02722948,  9.53058801,\n",
       "        13.60832658, 14.10621082, 19.8193403 ,  4.23977068,  5.74490723,\n",
       "        10.51055983, 11.14849639,  9.69429412,  9.31749405, 14.13089014],\n",
       "       [ 8.06805167, 13.4916133 ,  0.        , 23.43223085, 17.17253794,\n",
       "        15.10137468, 19.33985511, 12.71119213, 19.54928901, 12.84597286,\n",
       "        14.46230843, 14.9700446 , 12.44830703, 16.49054983,  7.82033693,\n",
       "        17.48774033,  8.0547138 , 22.411495  ,  9.57393976, 18.64337158],\n",
       "       [19.52895932, 16.93120042, 23.43223085,  0.        ,  8.82551282,\n",
       "        14.75987725, 20.27072875, 14.33457632, 11.19033677, 22.89113331,\n",
       "        18.69459418,  9.65257137, 19.63558155, 13.72982985, 19.37611616,\n",
       "        10.30659515, 15.62579417, 15.12609193, 20.53483689,  4.97440078],\n",
       "       [11.55478936, 12.93747951, 17.17253794,  8.82551282,  0.        ,\n",
       "        14.51197709, 14.29227839, 12.87655981,  4.96177289, 20.25316417,\n",
       "         9.98397375,  5.82868325, 13.59729099, 10.57691323, 13.78458599,\n",
       "        11.89218769, 10.49354682, 16.24392217, 12.82595913,  5.75400434],\n",
       "       [16.88099346,  8.73032011, 15.10137468, 14.75987725, 14.51197709,\n",
       "         0.        , 18.85454791,  9.07926544, 16.92192345,  8.7323901 ,\n",
       "        19.29857277, 12.65781447, 19.694194  ,  9.62708123, 10.29506645,\n",
       "         4.61216391, 10.42406694, 10.26644661, 15.75192156, 12.10164472],\n",
       "       [15.84664016, 10.68886777, 19.33985511, 20.27072875, 14.29227839,\n",
       "        18.85454791,  0.        , 22.38088096, 10.82239533, 19.56550233,\n",
       "        10.39919449, 18.63374598, 23.08977064,  9.69801476, 13.19365189,\n",
       "        18.93125105, 17.81018144, 15.57351779, 10.14501037, 18.49594234],\n",
       "       [13.37759811, 14.21699399, 12.71119213, 14.33457632, 12.87655981,\n",
       "         9.07926544, 22.38088096,  0.        , 17.24356724, 14.43272531,\n",
       "        18.16678364,  7.82926288, 12.41706059, 14.83182559, 12.52795163,\n",
       "         8.84402706,  6.14266551, 18.13691308, 16.2409946 , 10.06927545],\n",
       "       [13.60886558, 13.02722948, 19.54928901, 11.19033677,  4.96177289,\n",
       "        16.92192345, 10.82239533, 17.24356724,  0.        , 21.80962328,\n",
       "         9.02999851, 10.73886998, 17.40218296,  9.99713193, 14.97113728,\n",
       "        14.60679889, 14.11856577, 15.81912106, 12.77601537,  9.82739232],\n",
       "       [17.88073633,  9.53058801, 12.84597286, 22.89113331, 20.25316417,\n",
       "         8.7323901 , 19.56550233, 14.43272531, 21.80962328,  0.        ,\n",
       "        21.01279639, 18.79466693, 22.52998919, 13.16825301,  8.78904275,\n",
       "        13.24426111, 13.40681908, 14.66561882, 15.05312408, 19.63608273],\n",
       "       [ 7.58478616, 13.60832658, 14.46230843, 18.69459418,  9.98397375,\n",
       "        19.29857277, 10.39919449, 18.16678364,  9.02999851, 21.01279639,\n",
       "         0.        , 13.13750625, 13.96753706, 13.24351139, 12.33079312,\n",
       "        18.8484319 , 12.66551587, 20.84201717,  6.9162065 , 15.32938934],\n",
       "       [10.94495893, 14.10621082, 14.9700446 ,  9.65257137,  5.82868325,\n",
       "        12.65781447, 18.63374598,  7.82926288, 10.73886998, 18.79466693,\n",
       "        13.13750625,  0.        , 10.27629541, 12.96963839, 13.48849584,\n",
       "        10.28014102,  7.18271515, 17.87978363, 14.25755268,  4.80542858],\n",
       "       [ 8.24210569, 19.8193403 , 12.44830703, 19.63558155, 13.59729099,\n",
       "        19.694194  , 23.08977064, 12.41706059, 17.40218296, 22.52998919,\n",
       "        13.96753706, 10.27629541,  0.        , 20.32570277, 16.17275057,\n",
       "        19.13691448,  9.58535768, 26.59462128, 15.11589902, 15.02846125],\n",
       "       [14.87775885,  4.23977068, 16.49054983, 13.72982985, 10.57691323,\n",
       "         9.62708123,  9.69801476, 14.83182559,  9.99713193, 13.16825301,\n",
       "        13.24351139, 12.96963839, 20.32570277,  0.        ,  9.20118677,\n",
       "         9.48505324, 12.34545035,  7.68610145, 11.11773398, 11.81020934],\n",
       "       [ 9.78768009,  5.74490723,  7.82033693, 19.37611616, 13.78458599,\n",
       "        10.29506645, 13.19365189, 12.52795163, 14.97113728,  8.78904275,\n",
       "        12.33079312, 13.48849584, 16.17275057,  9.20118677,  0.        ,\n",
       "        12.77887638,  8.01662173, 15.11469503,  6.43187603, 15.3821908 ],\n",
       "       [17.29624324, 10.51055983, 17.48774033, 10.30659515, 11.89218769,\n",
       "         4.61216391, 18.93125105,  8.84402706, 14.60679889, 13.24426111,\n",
       "        18.8484319 , 10.28014102, 19.13691448,  9.48505324, 12.77887638,\n",
       "         0.        , 10.95525012,  9.90993304, 16.94975554,  8.33264224],\n",
       "       [ 7.48587294, 11.14849639,  8.0547138 , 15.62579417, 10.49354682,\n",
       "        10.42406694, 17.81018144,  6.14266551, 14.11856577, 13.40681908,\n",
       "        12.66551587,  7.18271515,  9.58535768, 12.34545035,  8.01662173,\n",
       "        10.95525012,  0.        , 17.94276809, 10.37853571, 10.7537779 ],\n",
       "       [22.10909649,  9.69429412, 22.411495  , 15.12609193, 16.24392217,\n",
       "        10.26644661, 15.57351779, 18.13691308, 15.81912106, 14.66561882,\n",
       "        20.84201717, 17.87978363, 26.59462128,  7.68610145, 15.11469503,\n",
       "         9.90993304, 17.94276809,  0.        , 18.50863781, 15.15249824],\n",
       "       [ 6.99916634,  9.31749405,  9.57393976, 20.53483689, 12.82595913,\n",
       "        15.75192156, 10.14501037, 16.2409946 , 12.77601537, 15.05312408,\n",
       "         6.9162065 , 14.25755268, 15.11589902, 11.11773398,  6.43187603,\n",
       "        16.94975554, 10.37853571, 18.50863781,  0.        , 16.62020888],\n",
       "       [14.90602095, 14.13089014, 18.64337158,  4.97440078,  5.75400434,\n",
       "        12.10164472, 18.49594234, 10.06927545,  9.82739232, 19.63608273,\n",
       "        15.32938934,  4.80542858, 15.02846125, 11.81020934, 15.3821908 ,\n",
       "         8.33264224, 10.7537779 , 15.15249824, 16.62020888,  0.        ]])"
      ]
     },
     "execution_count": 30,
     "metadata": {},
     "output_type": "execute_result"
    }
   ],
   "source": [
    "from scipy.spatial.distance import cdist\n",
    "cdist(position, position)"
   ]
  },
  {
   "cell_type": "code",
   "execution_count": 31,
   "id": "e2442f9b-d847-441e-80e2-331f31b80747",
   "metadata": {},
   "outputs": [],
   "source": [
    "kT = 1.0\n",
    "\n",
    "sim.state.thermalize_particle_momenta(\n",
    "    filter=hoomd.filter.All(),\n",
    "    kT=kT)\n",
    "\n",
    "# Integrate\n",
    "integrator = md.Integrator(dt=0.0005)\n",
    "integrator.forces.append(dlvo)\n",
    "\n",
    "langevin = md.methods.Langevin(kT=kT, filter=hoomd.filter.All())\n",
    "integrator.methods.append(langevin)\n",
    "sim.operations.integrator = integrator\n",
    "\n",
    "trigger = hoomd.trigger.Periodic(period=int(1))\n",
    "\n",
    "# Log data\n",
    "logger = hoomd.logging.Logger(categories=[\"scalar\", \"string\"])\n",
    "table = hoomd.write.Table(trigger=trigger, logger=logger)\n",
    "\n",
    "# Create a ThermodynamicQuantities object for the simulation\n",
    "thermo = hoomd.md.compute.ThermodynamicQuantities(filter=hoomd.filter.All())\n",
    "sim.operations.computes.append(thermo)\n",
    "\n",
    "# Add a log for the tracked variables\n",
    "logger.add(thermo, quantities=['potential_energy','pressure','kinetic_temperature'])"
   ]
  },
  {
   "cell_type": "code",
   "execution_count": 32,
   "id": "579e5fc0-6bb1-4df7-9313-0ab39e96f3d4",
   "metadata": {},
   "outputs": [],
   "source": [
    "# Save results to table\n",
    "file = open(\"log.txt\", mode=\"w\", newline=\"\\n\")\n",
    "table_file = hoomd.write.Table(\n",
    "    output=file, trigger=trigger, logger=logger\n",
    ")\n",
    "sim.operations.writers.append(table_file)\n",
    "\n",
    "gsd_writer = hoomd.write.GSD(filename='trajectory.gsd',\n",
    "        trigger=trigger)\n",
    "\n",
    "sim.operations.writers.append(gsd_writer)\n",
    "\n",
    "# Run simulation\n",
    "sim.run(1)"
   ]
  },
  {
   "cell_type": "code",
   "execution_count": null,
   "id": "8ea0ad1e-7714-4b3c-b168-6bc6e54ed661",
   "metadata": {},
   "outputs": [],
   "source": []
  }
 ],
 "metadata": {
  "kernelspec": {
   "display_name": "Python 3 (ipykernel)",
   "language": "python",
   "name": "python3"
  },
  "language_info": {
   "codemirror_mode": {
    "name": "ipython",
    "version": 3
   },
   "file_extension": ".py",
   "mimetype": "text/x-python",
   "name": "python",
   "nbconvert_exporter": "python",
   "pygments_lexer": "ipython3",
   "version": "3.11.6"
  }
 },
 "nbformat": 4,
 "nbformat_minor": 5
}
